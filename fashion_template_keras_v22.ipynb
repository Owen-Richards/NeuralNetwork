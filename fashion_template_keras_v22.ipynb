{
  "nbformat": 4,
  "nbformat_minor": 0,
  "metadata": {
    "colab": {
      "name": "fashion_template_keras_v2.ipynb",
      "provenance": [],
      "collapsed_sections": []
    },
    "kernelspec": {
      "name": "python3",
      "display_name": "Python 3"
    }
  },
  "cells": [
    {
      "cell_type": "markdown",
      "metadata": {
        "id": "O2ieg_PxXZpJ"
      },
      "source": [
        "Upload the fashion_train.csv file to your google drive and specify the correct path in the main method. When prompted, provide the authorization key."
      ]
    },
    {
      "cell_type": "code",
      "metadata": {
        "id": "4RtrTSDeW2y3",
        "outputId": "1530c7f3-5a6c-4d04-8fa6-db918d3a60e6",
        "colab": {
          "base_uri": "https://localhost:8080/"
        }
      },
      "source": [
        "# Machine Learning Homework 4 - Image Classification\n",
        "\n",
        "__author__ = '**'\n",
        "\n",
        "# General imports\n",
        "import numpy as np\n",
        "import matplotlib.pyplot as plt\n",
        "from sklearn.utils import shuffle\n",
        "from sklearn.model_selection import GridSearchCV\n",
        "import os\n",
        "import sys\n",
        "import pandas as pd\n",
        "\n",
        "# Keras\n",
        "import keras\n",
        "from keras.models import Sequential\n",
        "from keras.layers import Dense, Conv2D, MaxPooling2D, Dropout, Flatten\n",
        "from keras.wrappers.scikit_learn import KerasClassifier\n",
        "\n",
        "# Google Colab stuff\n",
        "from google.colab import drive\n",
        "drive.mount('/content/drive')"
      ],
      "execution_count": null,
      "outputs": [
        {
          "output_type": "stream",
          "text": [
            "Drive already mounted at /content/drive; to attempt to forcibly remount, call drive.mount(\"/content/drive\", force_remount=True).\n"
          ],
          "name": "stdout"
        }
      ]
    },
    {
      "cell_type": "markdown",
      "metadata": {
        "id": "x_gSZT4Sa_aR"
      },
      "source": [
        "The below methods have been provided for you."
      ]
    },
    {
      "cell_type": "code",
      "metadata": {
        "id": "fkfUkDaMXeaG"
      },
      "source": [
        "### Already implemented\n",
        "def get_data(datafile):\n",
        "  dataframe = pd.read_csv(datafile)\n",
        "  data = list(dataframe.values)\n",
        "  labels, images = [], []\n",
        "  for line in data:\n",
        "    labels.append(line[0])\n",
        "    images.append(line[1:])\n",
        "  labels = np.array(labels)\n",
        "  images = np.array(images).astype('float32')\n",
        "  images /= 255\n",
        "  return images, labels\n",
        "\n",
        "\n",
        "### Already implemented\n",
        "def visualize_weights(trained_model, num_to_display=20, save=True, hot=True):\n",
        "    layer1 = trained_model.layers[0]\n",
        "    weights = layer1.get_weights()[0]\n",
        "\n",
        "    # Feel free to change the color scheme\n",
        "    colors = 'hot' if hot else 'binary'\n",
        "    try:\n",
        "        os.mkdir('weight_visualizations')\n",
        "    except FileExistsError:\n",
        "        pass\n",
        "    for i in range(num_to_display):\n",
        "        wi = weights[:,i].reshape(28, 28)\n",
        "        plt.imshow(wi, cmap=colors, interpolation='nearest')\n",
        "        if save:\n",
        "            plt.savefig('./weight_visualizations/unit' + str(i) + '_weights.png')\n",
        "        else:\n",
        "            plt.show()\n",
        "\n",
        "\n",
        "### Already implemented\n",
        "def output_predictions(predictions, model_type):\n",
        "    if model_type == 'CNN':\n",
        "        with open('CNNpredictions.txt', 'w+') as f:\n",
        "            for pred in predictions:\n",
        "                f.write(str(pred) + '\\n')\n",
        "    if model_type == 'MLP':\n",
        "        with open('MLPpredictions.txt', 'w+') as f:\n",
        "            for pred in predictions:\n",
        "                f.write(str(pred) + '\\n')"
      ],
      "execution_count": null,
      "outputs": []
    },
    {
      "cell_type": "markdown",
      "metadata": {
        "id": "shqpBTr8ciBJ"
      },
      "source": [
        "Implement the following method to generate plots of the train and validation accuracy and loss vs epochs. \n",
        "You should call this method for your best-performing MLP model and best-performing CNN model \n",
        "(4 plots total--2 accuracy plots, 2 loss plots)."
      ]
    },
    {
      "cell_type": "code",
      "metadata": {
        "id": "ujMMBLK4bFD6"
      },
      "source": [
        "\n",
        "def plot_history(history):\n",
        "    train_loss_history = history.history['loss']\n",
        "    val_loss_history = history.history['val_loss']\n",
        "\n",
        "    train_acc_history = history.history['accuracy']\n",
        "    val_acc_history = history.history['val_accuracy']\n",
        "\n",
        "    # plot\n",
        "    \n",
        "    "
      ],
      "execution_count": null,
      "outputs": []
    },
    {
      "cell_type": "markdown",
      "metadata": {
        "id": "3OXElRWFc8hN"
      },
      "source": [
        "Code for defining and training your MLP models"
      ]
    },
    {
      "cell_type": "code",
      "metadata": {
        "id": "mhgYA_4Uc4jA"
      },
      "source": [
        "\n",
        "\n",
        "def create_mlp(args=None):\n",
        "\t# You can use args to pass parameter values to this method\n",
        "\n",
        "\t# Define model architecture\n",
        "\tmodel = Sequential()\n",
        "\tmodel.add(Dense(units=, activation=, input_dim=28*28))\n",
        "\t# add more layers...\n",
        "\n",
        "\t# Optimizer\n",
        "\tif args['opt'] == 'sgd':\n",
        "\t\t\toptimizer = keras.optimizers.SGD(lr=args['learning_rate'])\n",
        "\telif args['opt'] == 'adam':\n",
        "\t\t\toptimizer = keras.optimizers.Adam(lr=args['learning_rate'])\n",
        "\t \n",
        "\t# Compile\n",
        "\tmodel.compile(loss=, optimizer=optimizer, metrics=['accuracy'])\n",
        "\n",
        "\treturn model\n",
        "\t\t\n",
        "\n",
        "def train_mlp(x_train, y_train, x_vali=None, y_vali=None, args=None):\n",
        "    # You can use args to pass parameter values to this method\n",
        "    y_train = keras.utils.to_categorical(y_train, num_classes=)\n",
        "    model = create_mlp(args)\n",
        "    history = model.fit(...)\n",
        "    return model, history\n"
      ],
      "execution_count": null,
      "outputs": []
    },
    {
      "cell_type": "markdown",
      "metadata": {
        "id": "CIF5HwMWdDn2"
      },
      "source": [
        "Code for defining and training your CNN models"
      ]
    },
    {
      "cell_type": "code",
      "metadata": {
        "id": "8hA6yMX8dFsG"
      },
      "source": [
        "def create_cnn(args=None):\n",
        "    # You can use args to pass parameter values to this method\n",
        "\n",
        "    # 28x28 images with 1 color channel\n",
        "    input_shape = (28, 28, 1)\n",
        "\n",
        "    # Define model architecture\n",
        "    \n",
        "\t\tmodel = Sequential()\n",
        "\t\tmodel.add(Conv2D(filters=, activation=, kernel_size=, strides=, input_shape=input_shape))\n",
        "\t\tmodel.add(MaxPooling2D(pool_size=, strides=))\n",
        "\t\t# can add more layers here...\n",
        "\t\tmodel.add(Flatten())\n",
        "\t\t# can add more layers here...\n",
        "\t\tmodel.add(Dense(units=, activation=))\n",
        "\n",
        "    # Optimizer\n",
        "    if args['opt'] == 'sgd':\n",
        "        optimizer = keras.optimizers.SGD(lr=args['learning_rate'])\n",
        "    elif args['opt'] == 'adam':\n",
        "        optimizer = keras.optimizers.Adam(lr=args['learning_rate'])\n",
        "\n",
        "    # Compile\n",
        "    model.compile(loss=, optimizer=optimizer, metrics=['accuracy'])\n",
        "\n",
        "    return model\n",
        "\n",
        "\n",
        "\n",
        "def train_cnn(x_train, y_train, x_vali=None, y_vali=None, args=None):\n",
        "\t# You can use args to pass parameter values to this method\n",
        "\tx_train = x_train.reshape(-1, 28, 28, 1)\n",
        "\ty_train = keras.utils.to_categorical(y_train, num_classes=)\n",
        "\tmodel = create_cnn(args)\n",
        "\thistory = model.fit(...)\n",
        "\treturn model, history"
      ],
      "execution_count": null,
      "outputs": []
    },
    {
      "cell_type": "markdown",
      "metadata": {
        "id": "u6TLfQdUdIPD"
      },
      "source": [
        "An optional method you can use to repeatedly call create_mlp, train_mlp, create_cnn, or train_cnn. \n",
        "You can use it for performing cross validation or parameter searching."
      ]
    },
    {
      "cell_type": "code",
      "metadata": {
        "id": "hDyqOjHidWyD"
      },
      "source": [
        "def train_and_select_model(train_csv, model_type, grading_mode):\n",
        "    \"\"\"Optional method. You can write code here to perform a \n",
        "    parameter search, cross-validation, etc. \"\"\"\n",
        "\n",
        "    x_train, y_train = get_data(train_csv)\n",
        "\n",
        "    args = {\n",
        "        'batch_size': 128,\n",
        "        'validation_split': 0.1,\n",
        "\t\t\t\t'epoch':\n",
        "    }\n",
        "    \n",
        "    best_valid_acc = 0\n",
        "    best_hyper_set = {}\n",
        "    \n",
        "    \n",
        "    ## Select best values for hyperparamters such as learning_rate, optimizer, hidden_layer, hidden_dim, regularization...\n",
        "   \n",
        "    if not grading_mode:\n",
        "        for learning_rate in [0.05, 0.01, 0.005]:\n",
        "            for opt in ['adam', 'sgd']:\n",
        "                for other_hyper in other_hyper_set:  ## search over other hyperparameters\n",
        "\t\t\t\t\t\t\t\t\targs['opt'] = opt\n",
        "\t\t\t\t\t\t\t\t\targs['learning_rate'] = learning_rate\n",
        "\t\t\t\t\t\t\t\t\targs['other_hyper'] = other_hyper\n",
        "\n",
        "\t\t\t\t\t\t\t\t\t\n",
        "\t\t\t\t\t\t\t\t\tif model_type == 'MLP':\n",
        "\t\t\t\t\t\t\t\t\t\t\tmodel, history = train_mlp(x_train, y_train, x_vali=None, y_vali=None, args=args)\n",
        "\t\t\t\t\t\t\t\t\telse:\n",
        "\t\t\t\t\t\t\t\t\t\t\tmodel, history = train_cnn(x_train, y_train, x_vali=None, y_vali=None, args=args)\n",
        "\t\t\t\t\t \n",
        "\t\t\t\t\t\t\t\t\tvalidation_accuracy = history.history['val_accuracy']\n",
        "\t\t\t\t\t\t\t\t\t\n",
        "\t\t\t\t\t\t\t\t\tmax_valid_acc = max(validation_accuracy)\n",
        "\t\t\t\t\t\t\t\t\tif max_valid_acc > best_valid_acc:\n",
        "\t\t\t\t\t\t\t\t\t\t\tbest_model = model\n",
        "\t\t\t\t\t\t\t\t\t\t\tbest_valid_acc = max_valid_acc\n",
        "\t\t\t\t\t\t\t\t\t\t\tbest_hyper_set['learning_rate'] = learning_rate\n",
        "\t\t\t\t\t\t\t\t\t\t\tbest_hyper_set['opt'] = opt\n",
        "\t\t\t\t\t\t\t\t\t\t\tbest_history = history\n",
        "    else:\n",
        "        ## In grading mode, use best hyperparameters you found \n",
        "        if model_type == 'MLP':\n",
        "            args['opt'] = \n",
        "            args['learning_rate'] = \n",
        "\t\t\t\t\t\t## other hyper-parameters\n",
        "\t\t\t\t\t\targs['hidden_dim'] = \n",
        "\t\t\t\t\t\targs['hidden_layer'] = \n",
        "\t\t\t\t\t\targs['activation'] = \n",
        "\t\t\t\t\t\t\n",
        "            best_model, best_history = train_mlp(x_train, y_train, x_vali=None, y_vali=None, args=args)\n",
        "        \n",
        "        if model_type == 'CNN':\n",
        "            args['opt'] = \n",
        "            args['learning_rate'] = \n",
        "            best_model, best_history = train_cnn(x_train, y_train, x_vali=None, y_vali=None, args=args)\n",
        "            \n",
        "        \n",
        "    return best_model, best_history"
      ],
      "execution_count": null,
      "outputs": []
    },
    {
      "cell_type": "markdown",
      "metadata": {
        "id": "uPfB5kgadYfn"
      },
      "source": [
        "Main method. Make sure the file paths here point to the correct place in your google drive."
      ]
    },
    {
      "cell_type": "code",
      "metadata": {
        "id": "7BEZTSQ_dcim"
      },
      "source": [
        "if __name__ == '__main__':\n",
        "  ### Switch to \"grading_mode = True\" before you submit ###\n",
        "  grading_mode = False\n",
        "  if grading_mode:\n",
        "        # When we grade, we'll provide the file names as command-line arguments\n",
        "    if (len(sys.argv) != 3):\n",
        "        print(\"Usage:\\n\\tpython3 fashion.py train_file test_file\")\n",
        "        exit()\n",
        "    train_file, test_file = sys.argv[1], sys.argv[2]\n",
        "\n",
        "    # train your best model\n",
        "    best_mlp_model, _ = train_and_select_model(train_file, model_type='MLP', grading_mode=True)\n",
        "    \n",
        "    \n",
        "    x_test, _ = get_data(test_file)\n",
        "    # use your best model to generate predictions for the test_file\n",
        "    mlp_predictions = \n",
        "    output_predictions(mlp_predictions, model_type='MLP')\n",
        "    \n",
        "    x_test = x_test.reshape(-1, 28, 28, 1)\n",
        "    best_cnn_model, _ = train_and_select_model(train_file, model_type='CNN', grading_mode=True)\n",
        "    cnn_predictions = \n",
        "    output_predictions(cnn_predictions, model_type='CNN')\n",
        "\n",
        "  # Include all of the required figures in your report. Don't generate them here.\n",
        "  else:\n",
        "    ### Edit the following two lines if your paths are different\n",
        "    train_file = '/content/drive/My Drive/fashion_data2student/fashion_train.csv'\n",
        "    test_file = '/content/drive/My Drive/fashion_data2student/fashion_test_labeled.csv'\n",
        "    # MLP\n",
        "    mlp_model, mlp_history = train_and_select_model(train_file, model_type='MLP', grading_mode=False)\n",
        "    plot_history(mlp_history)\n",
        "    visualize_weights(mlp_model)\n",
        "\n",
        "    # CNN\n",
        "    cnn_model, cnn_history = train_and_select_model(train_file, model_type='CNN', grading_mode=False)\n",
        "    plot_history(cnn_history)"
      ],
      "execution_count": null,
      "outputs": []
    }
  ]
}